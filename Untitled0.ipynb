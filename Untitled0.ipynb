{
  "nbformat": 4,
  "nbformat_minor": 0,
  "metadata": {
    "colab": {
      "name": "Untitled0.ipynb",
      "provenance": [],
      "collapsed_sections": [],
      "authorship_tag": "ABX9TyPRZgYdWTu3RNLuneZQ2bAv",
      "include_colab_link": true
    },
    "kernelspec": {
      "name": "python3",
      "display_name": "Python 3"
    },
    "language_info": {
      "name": "python"
    }
  },
  "cells": [
    {
      "cell_type": "markdown",
      "metadata": {
        "id": "view-in-github",
        "colab_type": "text"
      },
      "source": [
        "<a href=\"https://colab.research.google.com/github/jams1421/python/blob/main/Untitled0.ipynb\" target=\"_parent\"><img src=\"https://colab.research.google.com/assets/colab-badge.svg\" alt=\"Open In Colab\"/></a>"
      ]
    },
    {
      "cell_type": "markdown",
      "source": [
        "# Chape1 運算式.變數與資料型態"
      ],
      "metadata": {
        "id": "O-5I-UHiGuGp"
      }
    },
    {
      "cell_type": "code",
      "source": [
        "a=5 #單行註解\n",
        "b=3\n",
        "print(a+b)\n"
      ],
      "metadata": {
        "colab": {
          "base_uri": "https://localhost:8080/"
        },
        "id": "CGHyEetFEgNy",
        "outputId": "f48283fb-56b9-4877-9559-0ebdb1d07755"
      },
      "execution_count": null,
      "outputs": [
        {
          "output_type": "stream",
          "name": "stdout",
          "text": [
            "8\n"
          ]
        }
      ]
    },
    {
      "cell_type": "code",
      "source": [
        "'''\n",
        "多行註解\n",
        "多行註解\n",
        "多行註解\n",
        "'''\n",
        "a=5  \n",
        "b=3\n",
        "print(a+b)"
      ],
      "metadata": {
        "colab": {
          "base_uri": "https://localhost:8080/"
        },
        "id": "BS_K6-xwE4Ri",
        "outputId": "fa1c4528-ee8d-4a4b-f58d-0da808df89c3"
      },
      "execution_count": null,
      "outputs": [
        {
          "output_type": "stream",
          "name": "stdout",
          "text": [
            "8\n"
          ]
        }
      ]
    },
    {
      "cell_type": "code",
      "source": [
        "a=5\n",
        "b=3\n",
        "#透過第三變數C,交換a,b的值\n",
        "c=a\n",
        "a=bb=c\n",
        "print(a)\n",
        "print(b)"
      ],
      "metadata": {
        "colab": {
          "base_uri": "https://localhost:8080/"
        },
        "id": "FZMJnOVYG3xL",
        "outputId": "c9b24aa4-7c72-49ee-9817-9f35b806f681"
      },
      "execution_count": null,
      "outputs": [
        {
          "output_type": "stream",
          "name": "stdout",
          "text": [
            "5\n",
            "3\n"
          ]
        }
      ]
    },
    {
      "cell_type": "code",
      "source": [
        "#不透過第三變數,交換a,b的值\n",
        "a=5\n",
        "b=3\n",
        "a=a+b\n",
        "b=a-b\n",
        "a=a-b\n",
        "print(a)\n",
        "print(b)"
      ],
      "metadata": {
        "colab": {
          "base_uri": "https://localhost:8080/"
        },
        "id": "uSEmtAmQJIpN",
        "outputId": "bd58a673-80ba-4421-c3ab-f4b2aed10178"
      },
      "execution_count": null,
      "outputs": [
        {
          "output_type": "stream",
          "name": "stdout",
          "text": [
            "3\n",
            "5\n"
          ]
        }
      ]
    },
    {
      "cell_type": "code",
      "source": [
        "a=5\n",
        "b=3\n",
        "a,b=b,a\n",
        "print(a)\n",
        "print(b)"
      ],
      "metadata": {
        "colab": {
          "base_uri": "https://localhost:8080/"
        },
        "id": "v2fLuwywJiL_",
        "outputId": "2ddacdef-d895-46ea-e35f-30c7dbb54c68"
      },
      "execution_count": null,
      "outputs": [
        {
          "output_type": "stream",
          "name": "stdout",
          "text": [
            "3\n",
            "5\n"
          ]
        }
      ]
    },
    {
      "cell_type": "markdown",
      "source": [
        "變數\n",
        "\n",
        "\n",
        "\n",
        "\n",
        "變數的平行設定"
      ],
      "metadata": {
        "id": "FrXkTR9SQb_h"
      }
    },
    {
      "cell_type": "code",
      "source": [
        "x,y,z=3,4,5\n",
        "print(x,y,z)"
      ],
      "metadata": {
        "colab": {
          "base_uri": "https://localhost:8080/"
        },
        "id": "pkiNQdSqQMoS",
        "outputId": "c3754a90-d934-47e6-dbcb-f17432f15c2c"
      },
      "execution_count": null,
      "outputs": [
        {
          "output_type": "stream",
          "name": "stdout",
          "text": [
            "3 4 5\n"
          ]
        }
      ]
    },
    {
      "cell_type": "code",
      "source": [
        "x,y,z=3,4,5\n",
        "x+=1  #x=x+1\n",
        "y*=2  #y=y*2\n",
        "z**=3 #z=z**3\n",
        "print(x,y,z)\n"
      ],
      "metadata": {
        "colab": {
          "base_uri": "https://localhost:8080/"
        },
        "id": "7KuHkl5yRnhy",
        "outputId": "4cb046fc-aea7-4e16-d9f7-4e97c83c8213"
      },
      "execution_count": null,
      "outputs": [
        {
          "output_type": "stream",
          "name": "stdout",
          "text": [
            "4 8 125\n"
          ]
        }
      ]
    },
    {
      "cell_type": "markdown",
      "source": [
        "Q:半徑為10的圓形,其面積大小為何?"
      ],
      "metadata": {
        "id": "0YaznW2aTHwK"
      }
    },
    {
      "cell_type": "code",
      "source": [
        "import math\n",
        "r=10\n",
        "print(r*r*math.pi)"
      ],
      "metadata": {
        "colab": {
          "base_uri": "https://localhost:8080/"
        },
        "id": "mraWUV5PTFmT",
        "outputId": "ad59efb2-7368-45d5-c6ff-e7f37f04e9f7"
      },
      "execution_count": null,
      "outputs": [
        {
          "output_type": "stream",
          "name": "stdout",
          "text": [
            "314.1592653589793\n"
          ]
        }
      ]
    },
    {
      "cell_type": "code",
      "source": [
        "import math\n",
        "r=eval(input(\"請輸入圓的半徑:\")) #eval: 計算輸入之值\n",
        "print(r*r*math.pi)"
      ],
      "metadata": {
        "id": "HXOh_syxVWix"
      },
      "execution_count": null,
      "outputs": []
    },
    {
      "cell_type": "markdown",
      "source": [
        "##算術符號\n",
        "\n",
        "```\n",
        "\n"
      ],
      "metadata": {
        "id": "IEuzV-meGBoH"
      }
    },
    {
      "cell_type": "code",
      "source": [
        "x=253\n",
        "print(type(x))\n",
        "y=253.0\n",
        "print(type(y))\n",
        "z=\"write\"\n",
        "print(type(z))    #字串\n",
        "print(type(x==y))   #布林代數(是與否)"
      ],
      "metadata": {
        "colab": {
          "base_uri": "https://localhost:8080/"
        },
        "id": "yQ5y3_mYGCge",
        "outputId": "6b2c22ed-45fa-4c24-bf05-a255dcaaaf0b"
      },
      "execution_count": null,
      "outputs": [
        {
          "output_type": "stream",
          "name": "stdout",
          "text": [
            "<class 'int'>\n",
            "<class 'float'>\n",
            "<class 'str'>\n",
            "<class 'bool'>\n"
          ]
        }
      ]
    },
    {
      "cell_type": "markdown",
      "source": [
        "##算術符號"
      ],
      "metadata": {
        "id": "CcyQ0QBsJAYe"
      }
    },
    {
      "cell_type": "code",
      "source": [
        "x=13\n",
        "y=4\n",
        "print(x/y)  #求值\n",
        "print(x//y)  #求商\n",
        "print(x%y)  #求餘數"
      ],
      "metadata": {
        "colab": {
          "base_uri": "https://localhost:8080/"
        },
        "id": "rcspxDPWJF7O",
        "outputId": "76d4dbef-2c98-4219-b3cb-fee145102c6f"
      },
      "execution_count": null,
      "outputs": [
        {
          "output_type": "stream",
          "name": "stdout",
          "text": [
            "3.25\n",
            "3\n",
            "1\n"
          ]
        }
      ]
    },
    {
      "cell_type": "markdown",
      "source": [
        "##算術符號的順序\n",
        "()>**>*/>+-\n"
      ],
      "metadata": {
        "id": "sZ6uDJjnMixu"
      }
    },
    {
      "cell_type": "code",
      "source": [
        "x=5*(1+2)**2-3+4/2  #**為次方\n",
        "print(x)"
      ],
      "metadata": {
        "colab": {
          "base_uri": "https://localhost:8080/"
        },
        "id": "d4JbMYhnMpa-",
        "outputId": "897e753d-a40c-4a1c-dd9a-e00fc8fae42e"
      },
      "execution_count": null,
      "outputs": [
        {
          "output_type": "stream",
          "name": "stdout",
          "text": [
            "44.0\n"
          ]
        }
      ]
    },
    {
      "cell_type": "markdown",
      "source": [
        "##型態轉換"
      ],
      "metadata": {
        "id": "-dts-ECeSGKU"
      }
    },
    {
      "cell_type": "code",
      "source": [
        "x=\"must\"\n",
        "print(10*x)\n",
        "print(\"10\"+x)\n",
        "print(10,x)"
      ],
      "metadata": {
        "colab": {
          "base_uri": "https://localhost:8080/"
        },
        "id": "K358ATxXSHHc",
        "outputId": "bcfdf7b2-1751-43c6-b444-3582badbeb72"
      },
      "execution_count": null,
      "outputs": [
        {
          "output_type": "stream",
          "name": "stdout",
          "text": [
            "mustmustmustmustmustmustmustmustmustmust\n",
            "10must\n",
            "10 must\n"
          ]
        }
      ]
    },
    {
      "cell_type": "code",
      "source": [
        "x=12\n",
        "print(type(x))\n",
        "y=float(x)+0.5 #強制型別轉換\n",
        "print(type(y))\n",
        "print(y)\n",
        "print(int(y))\n",
        "print(int(\"12\"))\n",
        "print(float(\"12.5\"))\n",
        "print(eval(\"5.5*2\"))"
      ],
      "metadata": {
        "colab": {
          "base_uri": "https://localhost:8080/"
        },
        "id": "6KUa5kwYV_Cb",
        "outputId": "07eca5e5-784a-45fc-b48e-53181284391c"
      },
      "execution_count": null,
      "outputs": [
        {
          "output_type": "stream",
          "name": "stdout",
          "text": [
            "<class 'int'>\n",
            "<class 'float'>\n",
            "12.5\n",
            "12\n",
            "12\n",
            "12.5\n",
            "11.0\n"
          ]
        }
      ]
    },
    {
      "cell_type": "markdown",
      "source": [
        "##print的三種方式\n",
        "1.透過,區隔要列印的變數 eg: print(\"This\", \"is\", \"a\", \"book\") \n",
        "\n",
        "2.利用字串的str.format() (新式)\n",
        "\n",
        "3.%格式化输出字符串 (舊式)"
      ],
      "metadata": {
        "id": "o7GU_KXwLkAq"
      }
    },
    {
      "cell_type": "code",
      "source": [
        "print(\"This\"\"is\"\"a\"\"book\")\n",
        "print(\"This\",\"is\",\"a\",\"book\")"
      ],
      "metadata": {
        "id": "yfpz9G79VcVK"
      },
      "execution_count": null,
      "outputs": []
    },
    {
      "cell_type": "markdown",
      "source": [
        "利用字串的str.format()，在{ }中替代變數的位置\n",
        "\n",
        "eg: print(\"This {} a book\".format(\"is\"))\n",
        "\n",
        "{}中可以設定格式\n",
        "\n",
        "例如：{0:10} (10個空格，靠左對齊)\n",
        "\n",
        "例如：{:,2f} (三個數字用,分隔，小數點後2位數)"
      ],
      "metadata": {
        "id": "WLv11TpAQw3c"
      }
    },
    {
      "cell_type": "code",
      "source": [
        "\n",
        "print(\"This {} a book\".format(\"is\"))\n",
        "x=1234567.7890\n",
        "print(\"{:.2f}\".format(x))   #到小數點.後兩位\n",
        "print(\"{:,.2f}\".format(x))  #,小數點前用,每3位數出現,並分開"
      ],
      "metadata": {
        "colab": {
          "base_uri": "https://localhost:8080/"
        },
        "id": "oUghjOFzLm4a",
        "outputId": "10fb5f0a-0066-4f7a-8003-37a61e4c130a"
      },
      "execution_count": null,
      "outputs": [
        {
          "output_type": "stream",
          "name": "stdout",
          "text": [
            "Thisisabook\n",
            "This is a book\n",
            "This is a book\n",
            "1234567.79\n",
            "1,234,567.79\n"
          ]
        }
      ]
    },
    {
      "cell_type": "markdown",
      "source": [
        "C語言類似的 % 格式\n",
        "\n",
        "%s (字串) %d (整數) %f (浮點數)\n",
        "\n",
        "%s(字串): %10s (10格靠右對齊，不足的左方補空白), %-10s\n",
        "\n",
        "%f(浮點數): %7.3f (總共7個浮點數位數，含一個小數點，以及三個小數點後數字)"
      ],
      "metadata": {
        "id": "GJLsoLMeOolU"
      }
    },
    {
      "cell_type": "code",
      "source": [
        "print(\"This %10s a book %-10s\"%(\"is\",\"!\"))    # %-10為向左靠10  \n",
        "print(\"%7.3f\" % 6789.4333) "
      ],
      "metadata": {
        "colab": {
          "base_uri": "https://localhost:8080/"
        },
        "id": "6I1cTUu7VmMp",
        "outputId": "8e382ad0-769a-4ee9-dc48-8301339064c9"
      },
      "execution_count": null,
      "outputs": [
        {
          "output_type": "stream",
          "name": "stdout",
          "text": [
            "This         is a book !         \n",
            "6789.433\n"
          ]
        }
      ]
    },
    {
      "cell_type": "markdown",
      "source": [
        "# Chape2 流程控制"
      ],
      "metadata": {
        "id": "4Tf9TsXlPSmz"
      }
    },
    {
      "cell_type": "markdown",
      "source": [
        "if else , elif"
      ],
      "metadata": {
        "id": "UoBBDhV0WTqi"
      }
    },
    {
      "cell_type": "code",
      "source": [
        "a=eval(input(\"請輸入數字a=\"))\n",
        "b=eval(input(\"請輸入數字b=\"))\n",
        "if a>b:\n",
        "  print(\"a>b\")\n",
        "  \n",
        "elif a==b:\n",
        "  print(\"a=b\")\n",
        "else:\n",
        "  print(\"a<b\")"
      ],
      "metadata": {
        "colab": {
          "base_uri": "https://localhost:8080/"
        },
        "id": "bZ9iRdKpPTEL",
        "outputId": "9d42f367-3d40-4e32-f41a-40d86512e9ba"
      },
      "execution_count": null,
      "outputs": [
        {
          "output_type": "stream",
          "name": "stdout",
          "text": [
            "請輸入數字a=10\n",
            "請輸入數字b=2\n",
            "a>b\n",
            "a\n"
          ]
        }
      ]
    },
    {
      "cell_type": "code",
      "source": [
        "grade=87\n",
        "print(\"成績評鑑：\")\n",
        "if grade >= 90:\n",
        "    print(\"優等\")\n",
        "elif grade >=80:\n",
        "    print(\"甲等\")\n",
        "elif grade >=70:\n",
        "    print(\"乙等\")\n",
        "elif grade >=60:\n",
        "    print(\"丙等\")\n",
        "else:\n",
        "    print(\"不及格\")"
      ],
      "metadata": {
        "colab": {
          "base_uri": "https://localhost:8080/"
        },
        "id": "gupbZ1nDVrQi",
        "outputId": "1b824a25-3116-459b-f168-f3ee3c05a885"
      },
      "execution_count": null,
      "outputs": [
        {
          "output_type": "stream",
          "name": "stdout",
          "text": [
            "成績評鑑：\n",
            "甲等\n"
          ]
        }
      ]
    },
    {
      "cell_type": "code",
      "source": [
        "for i in range(10):\n",
        "  print(i)"
      ],
      "metadata": {
        "colab": {
          "base_uri": "https://localhost:8080/"
        },
        "id": "V-Y9Acylb-tR",
        "outputId": "08a7ec72-11d3-4f84-dbea-e5f043a4d504"
      },
      "execution_count": null,
      "outputs": [
        {
          "output_type": "stream",
          "name": "stdout",
          "text": [
            "0\n",
            "1\n",
            "2\n",
            "3\n",
            "4\n",
            "5\n",
            "6\n",
            "7\n",
            "8\n",
            "9\n"
          ]
        }
      ]
    },
    {
      "cell_type": "code",
      "source": [
        "for i in range(0,10,1):\n",
        "  print(i)"
      ],
      "metadata": {
        "colab": {
          "base_uri": "https://localhost:8080/"
        },
        "id": "0lK6DAz0cMJ5",
        "outputId": "9b2c4d00-3eed-4837-a3d0-cf9da629846a"
      },
      "execution_count": null,
      "outputs": [
        {
          "output_type": "stream",
          "name": "stdout",
          "text": [
            "0\n",
            "1\n",
            "2\n",
            "3\n",
            "4\n",
            "5\n",
            "6\n",
            "7\n",
            "8\n",
            "9\n"
          ]
        }
      ]
    },
    {
      "cell_type": "markdown",
      "source": [
        "# 求1+2+3+...+10的總和"
      ],
      "metadata": {
        "id": "eyMUWTtdegb6"
      }
    },
    {
      "cell_type": "code",
      "source": [
        "sum=0\n",
        "for count in range(1,11,1): #range(從一開始的數字,到最後的數字,每一次迴圈跳過幾次的數字)\n",
        "  sum=sum+count\n",
        "\n",
        "print(sum)"
      ],
      "metadata": {
        "colab": {
          "base_uri": "https://localhost:8080/"
        },
        "id": "KMnySLEEesJ5",
        "outputId": "1f72c863-b96c-4ec2-84d8-fadd9c6e23b7"
      },
      "execution_count": null,
      "outputs": [
        {
          "output_type": "stream",
          "name": "stdout",
          "text": [
            "45\n"
          ]
        }
      ]
    },
    {
      "cell_type": "code",
      "source": [
        "for c in \"I am a boy\":\n",
        "  print(c)"
      ],
      "metadata": {
        "colab": {
          "base_uri": "https://localhost:8080/"
        },
        "id": "z3nSVbo-hVix",
        "outputId": "8979f5c2-55d5-4454-943a-ee0fb9cde07d"
      },
      "execution_count": null,
      "outputs": [
        {
          "output_type": "stream",
          "name": "stdout",
          "text": [
            "I\n",
            " \n",
            "a\n",
            "m\n",
            " \n",
            "a\n",
            " \n",
            "b\n",
            "o\n",
            "y\n"
          ]
        }
      ]
    },
    {
      "cell_type": "code",
      "source": [
        "for score in [90,100,88,77]:\n",
        "  print(score)"
      ],
      "metadata": {
        "colab": {
          "base_uri": "https://localhost:8080/"
        },
        "id": "EE7zu5AwhnTI",
        "outputId": "f68bea91-6dff-4ccd-c2d4-eb4032b2e8ac"
      },
      "execution_count": null,
      "outputs": [
        {
          "output_type": "stream",
          "name": "stdout",
          "text": [
            "90\n",
            "100\n",
            "88\n",
            "77\n"
          ]
        }
      ]
    },
    {
      "cell_type": "code",
      "source": [
        "for s in [\"john\",\"mary\"\"tom\",\"simpson\"]:\n",
        "  print(s)"
      ],
      "metadata": {
        "id": "ytPLtVTykb04"
      },
      "execution_count": null,
      "outputs": []
    },
    {
      "cell_type": "code",
      "source": [
        "i=0\n",
        "sum=0\n",
        "while i<11:\n",
        "  sum=sum+i\n",
        "  i+=1\n",
        "  print(sum)"
      ],
      "metadata": {
        "colab": {
          "base_uri": "https://localhost:8080/"
        },
        "id": "PHkYg_obkw5J",
        "outputId": "78f674e5-ce5a-47b5-de09-77f7f4f1baf2"
      },
      "execution_count": null,
      "outputs": [
        {
          "output_type": "stream",
          "name": "stdout",
          "text": [
            "0\n",
            "1\n",
            "3\n",
            "6\n",
            "10\n",
            "15\n",
            "21\n",
            "28\n",
            "36\n",
            "45\n",
            "55\n"
          ]
        }
      ]
    }
  ]
}
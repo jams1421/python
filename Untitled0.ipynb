{
  "nbformat": 4,
  "nbformat_minor": 0,
  "metadata": {
    "colab": {
      "name": "Untitled0.ipynb",
      "provenance": [],
      "collapsed_sections": [
        "IEuzV-meGBoH",
        "CcyQ0QBsJAYe",
        "sZ6uDJjnMixu",
        "-dts-ECeSGKU",
        "4Tf9TsXlPSmz",
        "eyMUWTtdegb6",
        "YmiGHUXobPLv",
        "dn38buHXbbjO",
        "PVZIOmPGct0f"
      ],
      "authorship_tag": "ABX9TyOwfFUfoRavg3fVHsOO2gIt",
      "include_colab_link": true
    },
    "kernelspec": {
      "name": "python3",
      "display_name": "Python 3"
    },
    "language_info": {
      "name": "python"
    }
  },
  "cells": [
    {
      "cell_type": "markdown",
      "metadata": {
        "id": "view-in-github",
        "colab_type": "text"
      },
      "source": [
        "<a href=\"https://colab.research.google.com/github/jams1421/python/blob/main/Untitled0.ipynb\" target=\"_parent\"><img src=\"https://colab.research.google.com/assets/colab-badge.svg\" alt=\"Open In Colab\"/></a>"
      ]
    },
    {
      "cell_type": "markdown",
      "source": [
        "# Chape1 運算式.變數與資料型態"
      ],
      "metadata": {
        "id": "O-5I-UHiGuGp"
      }
    },
    {
      "cell_type": "code",
      "source": [
        ""
      ],
      "metadata": {
        "colab": {
          "base_uri": "https://localhost:8080/"
        },
        "id": "KlU4_6SMF7X5",
        "outputId": "aee95ee4-3746-48fc-c4c8-d2ab9eb7d47b"
      },
      "execution_count": null,
      "outputs": [
        {
          "output_type": "stream",
          "name": "stdout",
          "text": [
            "0.4\n",
            "0\n",
            "2\n"
          ]
        }
      ]
    },
    {
      "cell_type": "code",
      "source": [
        "a=5 #單行註解\n",
        "b=3\n",
        "print(a+b)\n"
      ],
      "metadata": {
        "colab": {
          "base_uri": "https://localhost:8080/"
        },
        "id": "CGHyEetFEgNy",
        "outputId": "f48283fb-56b9-4877-9559-0ebdb1d07755"
      },
      "execution_count": null,
      "outputs": [
        {
          "output_type": "stream",
          "name": "stdout",
          "text": [
            "8\n"
          ]
        }
      ]
    },
    {
      "cell_type": "code",
      "source": [
        "'''\n",
        "多行註解\n",
        "多行註解\n",
        "多行註解\n",
        "'''\n",
        "a=5  \n",
        "b=3\n",
        "print(a+b)"
      ],
      "metadata": {
        "colab": {
          "base_uri": "https://localhost:8080/"
        },
        "id": "BS_K6-xwE4Ri",
        "outputId": "fa1c4528-ee8d-4a4b-f58d-0da808df89c3"
      },
      "execution_count": null,
      "outputs": [
        {
          "output_type": "stream",
          "name": "stdout",
          "text": [
            "8\n"
          ]
        }
      ]
    },
    {
      "cell_type": "code",
      "source": [
        "a=5\n",
        "b=3\n",
        "#透過第三變數C,交換a,b的值\n",
        "c=a\n",
        "a=bb=c\n",
        "print(a)\n",
        "print(b)"
      ],
      "metadata": {
        "colab": {
          "base_uri": "https://localhost:8080/"
        },
        "id": "FZMJnOVYG3xL",
        "outputId": "c9b24aa4-7c72-49ee-9817-9f35b806f681"
      },
      "execution_count": null,
      "outputs": [
        {
          "output_type": "stream",
          "name": "stdout",
          "text": [
            "5\n",
            "3\n"
          ]
        }
      ]
    },
    {
      "cell_type": "code",
      "source": [
        "#不透過第三變數,交換a,b的值\n",
        "a=5\n",
        "b=3\n",
        "a=a+b\n",
        "b=a-b\n",
        "a=a-b\n",
        "print(a)\n",
        "print(b)"
      ],
      "metadata": {
        "colab": {
          "base_uri": "https://localhost:8080/"
        },
        "id": "uSEmtAmQJIpN",
        "outputId": "bd58a673-80ba-4421-c3ab-f4b2aed10178"
      },
      "execution_count": null,
      "outputs": [
        {
          "output_type": "stream",
          "name": "stdout",
          "text": [
            "3\n",
            "5\n"
          ]
        }
      ]
    },
    {
      "cell_type": "code",
      "source": [
        "a=5\n",
        "b=3\n",
        "a,b=b,a\n",
        "print(a)\n",
        "print(b)"
      ],
      "metadata": {
        "colab": {
          "base_uri": "https://localhost:8080/"
        },
        "id": "v2fLuwywJiL_",
        "outputId": "2ddacdef-d895-46ea-e35f-30c7dbb54c68"
      },
      "execution_count": null,
      "outputs": [
        {
          "output_type": "stream",
          "name": "stdout",
          "text": [
            "3\n",
            "5\n"
          ]
        }
      ]
    },
    {
      "cell_type": "markdown",
      "source": [
        "變數\n",
        "\n",
        "\n",
        "\n",
        "\n",
        "變數的平行設定"
      ],
      "metadata": {
        "id": "FrXkTR9SQb_h"
      }
    },
    {
      "cell_type": "code",
      "source": [
        "x,y,z=3,4,5\n",
        "print(x,y,z)"
      ],
      "metadata": {
        "colab": {
          "base_uri": "https://localhost:8080/"
        },
        "id": "pkiNQdSqQMoS",
        "outputId": "c3754a90-d934-47e6-dbcb-f17432f15c2c"
      },
      "execution_count": null,
      "outputs": [
        {
          "output_type": "stream",
          "name": "stdout",
          "text": [
            "3 4 5\n"
          ]
        }
      ]
    },
    {
      "cell_type": "code",
      "source": [
        "x,y,z=3,4,5\n",
        "x+=1  #x=x+1\n",
        "y*=2  #y=y*2\n",
        "z**=3 #z=z**3\n",
        "print(x,y,z)\n"
      ],
      "metadata": {
        "colab": {
          "base_uri": "https://localhost:8080/"
        },
        "id": "7KuHkl5yRnhy",
        "outputId": "4cb046fc-aea7-4e16-d9f7-4e97c83c8213"
      },
      "execution_count": null,
      "outputs": [
        {
          "output_type": "stream",
          "name": "stdout",
          "text": [
            "4 8 125\n"
          ]
        }
      ]
    },
    {
      "cell_type": "markdown",
      "source": [
        "Q:半徑為10的圓形,其面積大小為何?"
      ],
      "metadata": {
        "id": "0YaznW2aTHwK"
      }
    },
    {
      "cell_type": "code",
      "source": [
        "import math\n",
        "r=10\n",
        "print(r*r*math.pi)"
      ],
      "metadata": {
        "colab": {
          "base_uri": "https://localhost:8080/"
        },
        "id": "mraWUV5PTFmT",
        "outputId": "ad59efb2-7368-45d5-c6ff-e7f37f04e9f7"
      },
      "execution_count": null,
      "outputs": [
        {
          "output_type": "stream",
          "name": "stdout",
          "text": [
            "314.1592653589793\n"
          ]
        }
      ]
    },
    {
      "cell_type": "code",
      "source": [
        "import math\n",
        "r=eval(input(\"請輸入圓的半徑:\")) #eval: 計算輸入之值\n",
        "print(r*r*math.pi)"
      ],
      "metadata": {
        "id": "HXOh_syxVWix"
      },
      "execution_count": null,
      "outputs": []
    },
    {
      "cell_type": "markdown",
      "source": [
        "##算術符號\n",
        "\n",
        "```\n",
        "\n"
      ],
      "metadata": {
        "id": "IEuzV-meGBoH"
      }
    },
    {
      "cell_type": "code",
      "source": [
        "x=253\n",
        "print(type(x))\n",
        "y=253.0\n",
        "print(type(y))\n",
        "z=\"write\"\n",
        "print(type(z))    #字串\n",
        "print(type(x==y))   #布林代數(是與否)"
      ],
      "metadata": {
        "colab": {
          "base_uri": "https://localhost:8080/"
        },
        "id": "yQ5y3_mYGCge",
        "outputId": "6b2c22ed-45fa-4c24-bf05-a255dcaaaf0b"
      },
      "execution_count": null,
      "outputs": [
        {
          "output_type": "stream",
          "name": "stdout",
          "text": [
            "<class 'int'>\n",
            "<class 'float'>\n",
            "<class 'str'>\n",
            "<class 'bool'>\n"
          ]
        }
      ]
    },
    {
      "cell_type": "markdown",
      "source": [
        "##算術符號"
      ],
      "metadata": {
        "id": "CcyQ0QBsJAYe"
      }
    },
    {
      "cell_type": "code",
      "source": [
        "x=13\n",
        "y=4\n",
        "print(x/y)  #求值\n",
        "print(x//y)  #求商\n",
        "print(x%y)  #求餘數"
      ],
      "metadata": {
        "colab": {
          "base_uri": "https://localhost:8080/"
        },
        "id": "rcspxDPWJF7O",
        "outputId": "76d4dbef-2c98-4219-b3cb-fee145102c6f"
      },
      "execution_count": null,
      "outputs": [
        {
          "output_type": "stream",
          "name": "stdout",
          "text": [
            "3.25\n",
            "3\n",
            "1\n"
          ]
        }
      ]
    },
    {
      "cell_type": "markdown",
      "source": [
        "##算術符號的順序\n",
        "()>**>*/>+-\n"
      ],
      "metadata": {
        "id": "sZ6uDJjnMixu"
      }
    },
    {
      "cell_type": "code",
      "source": [
        "x=3*(1+2)**2-3+4/2  #**為次方\n",
        "print(x)"
      ],
      "metadata": {
        "colab": {
          "base_uri": "https://localhost:8080/"
        },
        "id": "d4JbMYhnMpa-",
        "outputId": "f52bf3b2-6a23-4aae-8035-2a7faac7453c"
      },
      "execution_count": null,
      "outputs": [
        {
          "output_type": "stream",
          "name": "stdout",
          "text": [
            "27\n"
          ]
        }
      ]
    },
    {
      "cell_type": "markdown",
      "source": [
        "##型態轉換"
      ],
      "metadata": {
        "id": "-dts-ECeSGKU"
      }
    },
    {
      "cell_type": "code",
      "source": [
        "x=\"must\"\n",
        "print(10*x)\n",
        "print(\"10\"+x)\n",
        "print(10,x)"
      ],
      "metadata": {
        "colab": {
          "base_uri": "https://localhost:8080/"
        },
        "id": "K358ATxXSHHc",
        "outputId": "bcfdf7b2-1751-43c6-b444-3582badbeb72"
      },
      "execution_count": null,
      "outputs": [
        {
          "output_type": "stream",
          "name": "stdout",
          "text": [
            "mustmustmustmustmustmustmustmustmustmust\n",
            "10must\n",
            "10 must\n"
          ]
        }
      ]
    },
    {
      "cell_type": "code",
      "source": [
        "x=12\n",
        "print(type(x))\n",
        "y=float(x)+0.5 #強制型別轉換\n",
        "print(type(y))\n",
        "print(y)\n",
        "print(int(y))\n",
        "print(int(\"12\"))\n",
        "print(float(\"12.5\"))\n",
        "print(eval(\"5.5*2\"))"
      ],
      "metadata": {
        "colab": {
          "base_uri": "https://localhost:8080/"
        },
        "id": "6KUa5kwYV_Cb",
        "outputId": "07eca5e5-784a-45fc-b48e-53181284391c"
      },
      "execution_count": null,
      "outputs": [
        {
          "output_type": "stream",
          "name": "stdout",
          "text": [
            "<class 'int'>\n",
            "<class 'float'>\n",
            "12.5\n",
            "12\n",
            "12\n",
            "12.5\n",
            "11.0\n"
          ]
        }
      ]
    },
    {
      "cell_type": "markdown",
      "source": [
        "##print的三種方式\n",
        "1.透過,區隔要列印的變數 eg: print(\"This\", \"is\", \"a\", \"book\") \n",
        "\n",
        "2.利用字串的str.format() (新式)\n",
        "\n",
        "3.%格式化输出字符串 (舊式)"
      ],
      "metadata": {
        "id": "o7GU_KXwLkAq"
      }
    },
    {
      "cell_type": "code",
      "source": [
        "print(\"This\"\"is\"\"a\"\"book\")\n",
        "print(\"This\",\"is\",\"a\",\"book\")"
      ],
      "metadata": {
        "id": "yfpz9G79VcVK"
      },
      "execution_count": null,
      "outputs": []
    },
    {
      "cell_type": "markdown",
      "source": [
        "利用字串的str.format()，在{ }中替代變數的位置\n",
        "\n",
        "eg: print(\"This {} a book\".format(\"is\"))\n",
        "\n",
        "{}中可以設定格式\n",
        "\n",
        "例如：{0:10} (10個空格，靠左對齊)\n",
        "\n",
        "例如：{:,2f} (三個數字用,分隔，小數點後2位數)"
      ],
      "metadata": {
        "id": "WLv11TpAQw3c"
      }
    },
    {
      "cell_type": "code",
      "source": [
        "\n",
        "print(\"This {} a book\".format(\"is\"))\n",
        "x=1234567.7890\n",
        "print(\"{:.2f}\".format(x))   #到小數點.後兩位\n",
        "print(\"{:,.2f}\".format(x))  #,小數點前用,每3位數出現,並分開"
      ],
      "metadata": {
        "colab": {
          "base_uri": "https://localhost:8080/"
        },
        "id": "oUghjOFzLm4a",
        "outputId": "10fb5f0a-0066-4f7a-8003-37a61e4c130a"
      },
      "execution_count": null,
      "outputs": [
        {
          "output_type": "stream",
          "name": "stdout",
          "text": [
            "Thisisabook\n",
            "This is a book\n",
            "This is a book\n",
            "1234567.79\n",
            "1,234,567.79\n"
          ]
        }
      ]
    },
    {
      "cell_type": "markdown",
      "source": [
        "C語言類似的 % 格式\n",
        "\n",
        "%s (字串) %d (整數) %f (浮點數)\n",
        "\n",
        "%s(字串): %10s (10格靠右對齊，不足的左方補空白), %-10s\n",
        "\n",
        "%f(浮點數): %7.3f (總共7個浮點數位數，含一個小數點，以及三個小數點後數字)"
      ],
      "metadata": {
        "id": "GJLsoLMeOolU"
      }
    },
    {
      "cell_type": "code",
      "source": [
        "print(\"This %10s a book %-10s\"%(\"is\",\"!\"))    # %-10為向左靠10  \n",
        "print(\"%7.3f\" % 6789.4333) "
      ],
      "metadata": {
        "colab": {
          "base_uri": "https://localhost:8080/"
        },
        "id": "6I1cTUu7VmMp",
        "outputId": "8e382ad0-769a-4ee9-dc48-8301339064c9"
      },
      "execution_count": null,
      "outputs": [
        {
          "output_type": "stream",
          "name": "stdout",
          "text": [
            "This         is a book !         \n",
            "6789.433\n"
          ]
        }
      ]
    },
    {
      "cell_type": "markdown",
      "source": [
        "# Chape2 流程控制"
      ],
      "metadata": {
        "id": "4Tf9TsXlPSmz"
      }
    },
    {
      "cell_type": "markdown",
      "source": [
        "if else , elif"
      ],
      "metadata": {
        "id": "UoBBDhV0WTqi"
      }
    },
    {
      "cell_type": "code",
      "source": [
        "a=eval(input(\"請輸入數字a=\"))\n",
        "b=eval(input(\"請輸入數字b=\"))\n",
        "if a>b:\n",
        "  print(\"a>b\")\n",
        "  \n",
        "elif a==b:\n",
        "  print(\"a=b\")\n",
        "else:\n",
        "  print(\"a<b\")"
      ],
      "metadata": {
        "colab": {
          "base_uri": "https://localhost:8080/"
        },
        "id": "bZ9iRdKpPTEL",
        "outputId": "9d42f367-3d40-4e32-f41a-40d86512e9ba"
      },
      "execution_count": null,
      "outputs": [
        {
          "output_type": "stream",
          "name": "stdout",
          "text": [
            "請輸入數字a=10\n",
            "請輸入數字b=2\n",
            "a>b\n",
            "a\n"
          ]
        }
      ]
    },
    {
      "cell_type": "code",
      "source": [
        "grade=87\n",
        "print(\"成績評鑑：\")\n",
        "if grade >= 90:\n",
        "    print(\"優等\")\n",
        "elif grade >=80:\n",
        "    print(\"甲等\")\n",
        "elif grade >=70:\n",
        "    print(\"乙等\")\n",
        "elif grade >=60:\n",
        "    print(\"丙等\")\n",
        "else:\n",
        "    print(\"不及格\")"
      ],
      "metadata": {
        "colab": {
          "base_uri": "https://localhost:8080/"
        },
        "id": "gupbZ1nDVrQi",
        "outputId": "1b824a25-3116-459b-f168-f3ee3c05a885"
      },
      "execution_count": null,
      "outputs": [
        {
          "output_type": "stream",
          "name": "stdout",
          "text": [
            "成績評鑑：\n",
            "甲等\n"
          ]
        }
      ]
    },
    {
      "cell_type": "code",
      "source": [
        "for i in range(10):\n",
        "  print(i)"
      ],
      "metadata": {
        "colab": {
          "base_uri": "https://localhost:8080/"
        },
        "id": "V-Y9Acylb-tR",
        "outputId": "08a7ec72-11d3-4f84-dbea-e5f043a4d504"
      },
      "execution_count": null,
      "outputs": [
        {
          "output_type": "stream",
          "name": "stdout",
          "text": [
            "0\n",
            "1\n",
            "2\n",
            "3\n",
            "4\n",
            "5\n",
            "6\n",
            "7\n",
            "8\n",
            "9\n"
          ]
        }
      ]
    },
    {
      "cell_type": "code",
      "source": [
        "for i in range(0,10,1):\n",
        "  print(i)"
      ],
      "metadata": {
        "colab": {
          "base_uri": "https://localhost:8080/"
        },
        "id": "0lK6DAz0cMJ5",
        "outputId": "9b2c4d00-3eed-4837-a3d0-cf9da629846a"
      },
      "execution_count": null,
      "outputs": [
        {
          "output_type": "stream",
          "name": "stdout",
          "text": [
            "0\n",
            "1\n",
            "2\n",
            "3\n",
            "4\n",
            "5\n",
            "6\n",
            "7\n",
            "8\n",
            "9\n"
          ]
        }
      ]
    },
    {
      "cell_type": "markdown",
      "source": [
        "# 求1+2+3+...+10的總和"
      ],
      "metadata": {
        "id": "eyMUWTtdegb6"
      }
    },
    {
      "cell_type": "code",
      "source": [
        "sum=0\n",
        "for count in range(1,11,1): #range(從一開始的數字,到最後的數字,每一次迴圈跳過幾次的數字)\n",
        "  sum=sum+count\n",
        "\n",
        "print(sum)"
      ],
      "metadata": {
        "colab": {
          "base_uri": "https://localhost:8080/"
        },
        "id": "KMnySLEEesJ5",
        "outputId": "1f72c863-b96c-4ec2-84d8-fadd9c6e23b7"
      },
      "execution_count": null,
      "outputs": [
        {
          "output_type": "stream",
          "name": "stdout",
          "text": [
            "45\n"
          ]
        }
      ]
    },
    {
      "cell_type": "code",
      "source": [
        "for c in \"I am a boy\":\n",
        "  print(c)"
      ],
      "metadata": {
        "colab": {
          "base_uri": "https://localhost:8080/"
        },
        "id": "z3nSVbo-hVix",
        "outputId": "8979f5c2-55d5-4454-943a-ee0fb9cde07d"
      },
      "execution_count": null,
      "outputs": [
        {
          "output_type": "stream",
          "name": "stdout",
          "text": [
            "I\n",
            " \n",
            "a\n",
            "m\n",
            " \n",
            "a\n",
            " \n",
            "b\n",
            "o\n",
            "y\n"
          ]
        }
      ]
    },
    {
      "cell_type": "code",
      "source": [
        "for score in [90,100,88,77]:\n",
        "  print(score)"
      ],
      "metadata": {
        "colab": {
          "base_uri": "https://localhost:8080/"
        },
        "id": "EE7zu5AwhnTI",
        "outputId": "f68bea91-6dff-4ccd-c2d4-eb4032b2e8ac"
      },
      "execution_count": null,
      "outputs": [
        {
          "output_type": "stream",
          "name": "stdout",
          "text": [
            "90\n",
            "100\n",
            "88\n",
            "77\n"
          ]
        }
      ]
    },
    {
      "cell_type": "code",
      "source": [
        "for s in [\"john\",\"mary\"\"tom\",\"simpson\"]:\n",
        "  print(s)"
      ],
      "metadata": {
        "id": "ytPLtVTykb04",
        "colab": {
          "base_uri": "https://localhost:8080/"
        },
        "outputId": "f2383ac4-660f-4d80-f41c-4aca52d506a5"
      },
      "execution_count": null,
      "outputs": [
        {
          "output_type": "stream",
          "name": "stdout",
          "text": [
            "john\n",
            "marytom\n",
            "simpson\n"
          ]
        }
      ]
    },
    {
      "cell_type": "code",
      "source": [
        "i=0\n",
        "sum=0\n",
        "while i<11:\n",
        "  sum=sum+i\n",
        "  i+=1\n",
        "  print(sum)"
      ],
      "metadata": {
        "colab": {
          "base_uri": "https://localhost:8080/"
        },
        "id": "PHkYg_obkw5J",
        "outputId": "78f674e5-ce5a-47b5-de09-77f7f4f1baf2"
      },
      "execution_count": null,
      "outputs": [
        {
          "output_type": "stream",
          "name": "stdout",
          "text": [
            "0\n",
            "1\n",
            "3\n",
            "6\n",
            "10\n",
            "15\n",
            "21\n",
            "28\n",
            "36\n",
            "45\n",
            "55\n"
          ]
        }
      ]
    },
    {
      "cell_type": "markdown",
      "source": [
        "# while迴圈\n",
        "帳號密碼判斷"
      ],
      "metadata": {
        "id": "YmiGHUXobPLv"
      }
    },
    {
      "cell_type": "code",
      "source": [
        "id=\"tony\"\n",
        "pwd=\"1234\"\n",
        "while True:\n",
        "    x=input(\"請輸入帳號：\")\n",
        "    y=input(\"請輸入密碼：\")\n",
        "    if (x==id and y==pwd):\n",
        "        print(\"歡迎登入\")\n",
        "        break\n",
        "    else:\n",
        "        print(\"帳號或密碼輸入錯誤\")"
      ],
      "metadata": {
        "colab": {
          "base_uri": "https://localhost:8080/"
        },
        "id": "Pm2wAmoZZhoI",
        "outputId": "91074b2c-3471-4383-f1d1-d2eb9e6cbce8"
      },
      "execution_count": null,
      "outputs": [
        {
          "output_type": "stream",
          "name": "stdout",
          "text": [
            "請輸入帳號：tony\n",
            "請輸入密碼：1234\n",
            "歡迎登入\n"
          ]
        }
      ]
    },
    {
      "cell_type": "markdown",
      "source": [
        "# 亂數"
      ],
      "metadata": {
        "id": "dn38buHXbbjO"
      }
    },
    {
      "cell_type": "code",
      "source": [
        "import random\n",
        "for i in range(0,10):\n",
        "    print(random.randint(1,9))"
      ],
      "metadata": {
        "colab": {
          "base_uri": "https://localhost:8080/"
        },
        "id": "8KlYYynKYE-I",
        "outputId": "172d490a-3e04-48d5-8eaa-6c20758ef748"
      },
      "execution_count": null,
      "outputs": [
        {
          "output_type": "stream",
          "name": "stdout",
          "text": [
            "8\n",
            "3\n",
            "6\n",
            "6\n",
            "8\n",
            "6\n",
            "2\n",
            "2\n",
            "2\n",
            "1\n"
          ]
        }
      ]
    },
    {
      "cell_type": "markdown",
      "source": [
        "# 猜數字遊戲"
      ],
      "metadata": {
        "id": "PVZIOmPGct0f"
      }
    },
    {
      "cell_type": "code",
      "source": [
        "import random\n",
        "number=random.randint(1,10)\n",
        "while True:\n",
        "    guess=int(input(\"請輸入1~10之間的數字-->\"))\n",
        "    if guess == number:\n",
        "        print(\"你猜對了，數字是\", number)\n",
        "        break\n",
        "    else:\n",
        "        print(\"你猜錯了\")"
      ],
      "metadata": {
        "colab": {
          "base_uri": "https://localhost:8080/"
        },
        "id": "WwO6GXzMcyqh",
        "outputId": "3a929ca4-14d2-40cd-8b87-67d94561d32e"
      },
      "execution_count": null,
      "outputs": [
        {
          "output_type": "stream",
          "name": "stdout",
          "text": [
            "請輸入1~10之間的數字-->8\n",
            "你猜錯了\n",
            "請輸入1~10之間的數字-->7\n",
            "你猜錯了\n",
            "請輸入1~10之間的數字-->5\n",
            "你猜錯了\n",
            "請輸入1~10之間的數字-->6\n",
            "你猜錯了\n",
            "請輸入1~10之間的數字-->3\n",
            "你猜對了，數字是 3\n"
          ]
        }
      ]
    },
    {
      "cell_type": "markdown",
      "source": [
        "#Chape3\n",
        "#Python物件\n",
        "#List[串列] Tuple(元組) Dictionary{字典} Sets{集合}\n",
        "#List[串列]\n",
        "使用中括號[]包裹元素"
      ],
      "metadata": {
        "id": "sf0RuDAah95h"
      }
    },
    {
      "cell_type": "code",
      "source": [
        "expenses = [90, 100, 88, 73, 64]\n",
        "\n",
        "\n",
        "for i in range(len(expenses)): #(len(expenses)) 為expenses的長度\n",
        " print(expenses[i])"
      ],
      "metadata": {
        "colab": {
          "base_uri": "https://localhost:8080/"
        },
        "id": "8mQMdOg8iK-P",
        "outputId": "91b4614e-4372-450b-a337-88c3a5cf9f74"
      },
      "execution_count": null,
      "outputs": [
        {
          "output_type": "stream",
          "name": "stdout",
          "text": [
            "90\n",
            "100\n",
            "90\n",
            "100\n",
            "88\n",
            "73\n",
            "64\n"
          ]
        }
      ]
    },
    {
      "cell_type": "code",
      "source": [
        "print(expenses[0])   #print(expenses[0])為顯示第1個數\n",
        "print(expenses[1])   #print(expenses[1])為顯示第2個數\n",
        "print(expenses[-1])   #print(expenses[-1])為顯示倒數第1個數\n",
        "print(expenses[-2])   #print(expenses[-2])為顯示倒數第2個數\n",
        "print(expenses[:])    #print(expenses[:])為顯示所有數字\n",
        "print(expenses[:4])   #顯示expenses[4]以前的數字\n",
        "print(expenses[2:])   #顯示expenses[2]以後的數字\n",
        "print(expenses[0:3])   #print(expenses[0:3])為顯示第1個數到第3個數\n",
        "print(expenses[2:5])   #print(expenses[2:5])為顯示第3個數到第5個數\n",
        "print(expenses[0:5:2])  #每顯示1個數後隔1位\n",
        "print(expenses[::2])   #每顯示1個數後隔1位\n",
        "print(expenses[::-2])   #每顯示倒數1個數後隔1位\n",
        "print(expenses[4:0:-2])\n",
        "\n"
      ],
      "metadata": {
        "colab": {
          "base_uri": "https://localhost:8080/"
        },
        "id": "KyiE5givmXVo",
        "outputId": "c58d39b7-5c89-452c-d397-515d36b9d7f8"
      },
      "execution_count": null,
      "outputs": [
        {
          "output_type": "stream",
          "name": "stdout",
          "text": [
            "90\n",
            "100\n",
            "64\n",
            "73\n",
            "[90, 100, 88, 73, 64]\n",
            "[90, 100, 88, 73]\n",
            "[88, 73, 64]\n",
            "[90, 100, 88]\n",
            "[88, 73, 64]\n",
            "[90, 88, 64]\n",
            "[90, 88, 64]\n",
            "[64, 88, 90]\n",
            "[64, 88]\n"
          ]
        }
      ]
    },
    {
      "cell_type": "code",
      "source": [
        "my_list0 = []  #空串列\n",
        "print(my_list0)\n",
        "my_list1 = list() \n",
        "my_list2 = ['python', 'javascript', 'C#']\n",
        "print(my_list2)\n",
        "print(len(my_list2)) #len:計算list的長度\n",
        "print(my_list2[2])"
      ],
      "metadata": {
        "colab": {
          "base_uri": "https://localhost:8080/"
        },
        "id": "7eJ6Wz4pa__l",
        "outputId": "245e25d6-cf3a-4f29-de6c-a3398e1dbcef"
      },
      "execution_count": null,
      "outputs": [
        {
          "output_type": "stream",
          "name": "stdout",
          "text": [
            "[]\n",
            "['python', 'javascript', 'C#']\n",
            "3\n",
            "C#\n"
          ]
        }
      ]
    },
    {
      "cell_type": "code",
      "source": [
        "my_list2 = ['python', 'javascript', 'C#']\n",
        "my_list2.append('java') #append:附加在最後面\n",
        "print(my_list2)\n",
        "my_list2.remove('java') #remove:移除\n",
        "print(my_list2)\n",
        "my_list2.insert(1,'java') #insert:插入物件,需要指定索引位置\n",
        "print(my_list2)\n",
        "my_list2.clear() #clera:清除所有物件\n",
        "print(my_list2)"
      ],
      "metadata": {
        "colab": {
          "base_uri": "https://localhost:8080/"
        },
        "id": "l42E7pvherxi",
        "outputId": "90677c8e-0876-408f-908a-245c299e522e"
      },
      "execution_count": null,
      "outputs": [
        {
          "output_type": "stream",
          "name": "stdout",
          "text": [
            "['python', 'javascript', 'C#', 'java']\n",
            "['python', 'javascript', 'C#']\n",
            "['python', 'java', 'javascript', 'C#']\n",
            "[]\n"
          ]
        }
      ]
    },
    {
      "cell_type": "code",
      "source": [
        "a=[1,2,3]\n",
        "b=[4,5,6]\n",
        "c=a+b\n",
        "print(c)\n",
        "d=a*2\n",
        "print(d)"
      ],
      "metadata": {
        "colab": {
          "base_uri": "https://localhost:8080/"
        },
        "id": "7JbHtnquhVFk",
        "outputId": "c08aa458-0268-43cd-9f17-61f9f1cff0ef"
      },
      "execution_count": null,
      "outputs": [
        {
          "output_type": "stream",
          "name": "stdout",
          "text": [
            "[1, 2, 3, 4, 5, 6]\n",
            "[1, 2, 3, 1, 2, 3]\n"
          ]
        }
      ]
    },
    {
      "cell_type": "markdown",
      "source": [
        "# 函式\n",
        "1.獨立出來的程式組\n",
        "\n",
        "2.可以接收傳入值(多個)\n",
        "\n",
        "3.輸出回傳值(一個)"
      ],
      "metadata": {
        "id": "G7B8HWeMepVP"
      }
    },
    {
      "cell_type": "code",
      "source": [
        "#傳統的寫法\n",
        "import math\n",
        "radius=eval(input(\"請輸入圓的半徑\"))\n",
        "print(\"圓的面精為:\",radius * radius * math.pi)\n"
      ],
      "metadata": {
        "colab": {
          "base_uri": "https://localhost:8080/"
        },
        "id": "heCMnvEjflin",
        "outputId": "82e73ecd-ac99-4161-bff4-e93939561459"
      },
      "execution_count": null,
      "outputs": [
        {
          "output_type": "stream",
          "name": "stdout",
          "text": [
            "請輸入圓的半徑20\n",
            "圓的面精為: 1256.6370614359173\n"
          ]
        }
      ]
    },
    {
      "cell_type": "markdown",
      "source": [
        "##圓面積計算函式\n",
        "\n"
      ],
      "metadata": {
        "id": "DJ9POU7AhFe9"
      }
    },
    {
      "cell_type": "code",
      "source": [
        "import math\n",
        "def circle_area(radius):\n",
        "  area=radius * radius *math.pi\n",
        "  return area\n",
        "  print(\"半徑10,圓面積為:\",circle_area(10))\n",
        "  print(\"半徑20,圓面積為:\",circle_area(20))\n",
        "  print(\"半徑50,圓面積為:\",circle_area(50))"
      ],
      "metadata": {
        "id": "KwiT-GaPhOR9"
      },
      "execution_count": null,
      "outputs": []
    },
    {
      "cell_type": "markdown",
      "source": [
        "#錯誤處理\n",
        "try:\n",
        " 程式碼<br>\n",
        "except:\n",
        " 例外的時候處理動作<br>\n",
        "else:\n",
        " 當沒有進入意外(程式正確)的處理動作<br>\n",
        "finally:\n",
        "不管程式正確錯誤都會執行的部分<br>\n",
        "\n",
        "\n",
        "\n"
      ],
      "metadata": {
        "id": "nzIXfCQ_wVBg"
      }
    },
    {
      "cell_type": "code",
      "source": [
        "try:\n",
        " a=10\n",
        " b=20\n",
        " if a<b:\n",
        "   print(n)\n",
        "except NameError:\n",
        "    print(\"NameError錯誤產生：\")\n",
        "except ZeroDivisionError:\n",
        "    print(\"其他錯誤產生\")\n",
        "else:\n",
        "  print(\"沒有錯誤產生\")\n",
        "finally:\n",
        "  print(\"不管程式正確錯誤都會執行的部分\")"
      ],
      "metadata": {
        "id": "PwZpE0-Zxr34"
      },
      "execution_count": null,
      "outputs": []
    },
    {
      "cell_type": "markdown",
      "source": [
        "##Chape 3.1\n",
        "##Tuple (元組)\n",
        "\n",
        "tuple(元組)可視為不可改變的串列，tuple跟list很像，但是我們不能新增、刪除或更新\n",
        "tuple的元素。tuple的好處有：\n",
        "\n",
        "1.佔用較少空間\n",
        "\n",
        "2.可當作dictionary(字典)的鍵值\n",
        "\n",
        "3.可當作函式引數"
      ],
      "metadata": {
        "id": "qyuQ5d4ZqlJf"
      }
    },
    {
      "cell_type": "code",
      "source": [
        "a_tuple=('python', 'js', 'SQL')\n",
        "print(a_tuple)\n",
        "b_list=['go', 'c#', 'vb']\n",
        "b_tuple=tuple(b_list)\n",
        "print(b_tuple)\n",
        "print(b_tuple[0])"
      ],
      "metadata": {
        "colab": {
          "base_uri": "https://localhost:8080/"
        },
        "id": "yZ1sNV_OrBg_",
        "outputId": "df711453-0893-47f8-9a46-0938192e43a0"
      },
      "execution_count": null,
      "outputs": [
        {
          "output_type": "stream",
          "name": "stdout",
          "text": [
            "('python', 'js', 'SQL')\n",
            "('go', 'c#', 'vb')\n",
            "go\n"
          ]
        }
      ]
    },
    {
      "cell_type": "markdown",
      "source": [
        "##字典(dictionary - dict)為帶有鍵值(key)的串列(list)"
      ],
      "metadata": {
        "id": "AJSwp2dLtwDQ"
      }
    },
    {
      "cell_type": "code",
      "source": [
        "languages = {}\n",
        "a={0:'python', 1:'java', 2:'SQL'}\n",
        "print(a[0])\n",
        "print(a[1])\n",
        "print(a[2])\n",
        "b={'age':47, 'gender':'M', 'name':'Suhsien'}\n",
        "print(b['age'])\n",
        "print(b['gender'])\n",
        "print(b['name'])"
      ],
      "metadata": {
        "colab": {
          "base_uri": "https://localhost:8080/"
        },
        "id": "H_UM7aD8tyxf",
        "outputId": "4bfd30eb-1ff5-4348-f68d-f9ad08adbb84"
      },
      "execution_count": null,
      "outputs": [
        {
          "output_type": "stream",
          "name": "stdout",
          "text": [
            "python\n",
            "java\n",
            "SQL\n",
            "47\n",
            "M\n",
            "Suhsien\n"
          ]
        }
      ]
    },
    {
      "cell_type": "code",
      "source": [
        "languages = {'name':'python', 'version':'3.7'} #索引值(鍵值)可以自訂\n",
        "print(languages['name'])\n",
        "print(languages['version'])\n",
        "print(languages)\n",
        "print(languages.keys())\n",
        "print(languages.values())\n",
        "print(languages.items())\n",
        "print('name' in languages)"
      ],
      "metadata": {
        "colab": {
          "base_uri": "https://localhost:8080/"
        },
        "id": "w-uNEyP9vkPf",
        "outputId": "9e060da5-3cd6-4d0f-a696-ac0743fe2bad"
      },
      "execution_count": null,
      "outputs": [
        {
          "output_type": "stream",
          "name": "stdout",
          "text": [
            "python\n",
            "3.7\n",
            "{'name': 'python', 'version': '3.7'}\n",
            "dict_keys(['name', 'version'])\n",
            "dict_values(['python', '3.7'])\n",
            "dict_items([('name', 'python'), ('version', '3.7')])\n",
            "True\n"
          ]
        }
      ]
    },
    {
      "cell_type": "markdown",
      "source": [
        "##Chape 4numpy套件(numeric python)\n",
        "為什麼需要numpy?\n",
        "numpy由c撰寫，速度快python 10~1000倍以上\n",
        "\n",
        "numpy儲存結果較正確，python數字儲存不正確\n",
        "\n",
        "numpy節省記憶體儲存空間\n",
        "\n",
        "numpy的向量(矩陣計算)速度快\n",
        "\n",
        "numpy的取值方便"
      ],
      "metadata": {
        "id": "OykrLFtJ4Yl-"
      }
    },
    {
      "cell_type": "code",
      "source": [
        "a_list=[1,2,3,4,5]\n",
        "print(a_list*3)"
      ],
      "metadata": {
        "colab": {
          "base_uri": "https://localhost:8080/"
        },
        "id": "8XzTG1xs4jAg",
        "outputId": "843a2896-6eef-4606-a157-dd01e49764ca"
      },
      "execution_count": null,
      "outputs": [
        {
          "output_type": "stream",
          "name": "stdout",
          "text": [
            "[1, 2, 3, 4, 5, 1, 2, 3, 4, 5, 1, 2, 3, 4, 5]\n"
          ]
        }
      ]
    },
    {
      "cell_type": "code",
      "source": [
        "#numpy套件的ndarray型態,提供element-wise的操作\n",
        "import numpy as np\n",
        "a=np.array([1,2,3,4,5])\n",
        "print(a*3)"
      ],
      "metadata": {
        "colab": {
          "base_uri": "https://localhost:8080/"
        },
        "id": "lzongNXY4jS3",
        "outputId": "5add0e17-534c-44d0-86d1-e5c53064d5fd"
      },
      "execution_count": null,
      "outputs": [
        {
          "output_type": "stream",
          "name": "stdout",
          "text": [
            "[ 3  6  9 12 15]\n"
          ]
        }
      ]
    },
    {
      "cell_type": "code",
      "source": [
        "a=np.array([1,2,3,4,5])\n",
        "print(type(a))\n",
        "print(a.shape) #ndaary的形狀\n",
        "print(a.dtype) #資料的型態\n",
        "print(a.ndim) #維度"
      ],
      "metadata": {
        "colab": {
          "base_uri": "https://localhost:8080/"
        },
        "id": "8cnPjoBa4neZ",
        "outputId": "3017d28e-02cf-4cc3-c935-3d9e372baace"
      },
      "execution_count": null,
      "outputs": [
        {
          "output_type": "stream",
          "name": "stdout",
          "text": [
            "<class 'numpy.ndarray'>\n",
            "(5,)\n",
            "int64\n",
            "1\n"
          ]
        }
      ]
    },
    {
      "cell_type": "code",
      "source": [
        "import numpy as np\n",
        "z=np.zeros(6)\n",
        "print(z)\n",
        "print(np.empty((2,3,4)))\n",
        "print(np.arange(10))"
      ],
      "metadata": {
        "colab": {
          "base_uri": "https://localhost:8080/"
        },
        "id": "Q00KdoH8nndM",
        "outputId": "12a829c8-4c10-4d94-ba4d-144b9c9cd98c"
      },
      "execution_count": 4,
      "outputs": [
        {
          "output_type": "stream",
          "name": "stdout",
          "text": [
            "[0. 0. 0. 0. 0. 0.]\n",
            "[[[1.48791387e-316 0.00000000e+000 0.00000000e+000 0.00000000e+000]\n",
            "  [0.00000000e+000 0.00000000e+000 0.00000000e+000 0.00000000e+000]\n",
            "  [0.00000000e+000 0.00000000e+000 0.00000000e+000 0.00000000e+000]]\n",
            "\n",
            " [[0.00000000e+000 0.00000000e+000 0.00000000e+000 0.00000000e+000]\n",
            "  [0.00000000e+000 0.00000000e+000 0.00000000e+000 0.00000000e+000]\n",
            "  [0.00000000e+000 0.00000000e+000 0.00000000e+000 0.00000000e+000]]]\n",
            "[0 1 2 3 4 5 6 7 8 9]\n"
          ]
        }
      ]
    },
    {
      "cell_type": "markdown",
      "source": [
        "##ndarray的進階操作"
      ],
      "metadata": {
        "id": "b95Iqwg57Soo"
      }
    },
    {
      "cell_type": "code",
      "source": [
        "my_array=np.arange(10)\n",
        "print(my_array)\n",
        "print(my_array[0])\n",
        "print(my_array[0:5])"
      ],
      "metadata": {
        "colab": {
          "base_uri": "https://localhost:8080/"
        },
        "id": "iIS9ndrP7UPI",
        "outputId": "2a4217cb-50de-4371-b1c9-289192d2c37a"
      },
      "execution_count": null,
      "outputs": [
        {
          "output_type": "stream",
          "name": "stdout",
          "text": [
            "[0 1 2 3 4 5 6 7 8 9]\n",
            "0\n",
            "[0 1 2 3 4]\n"
          ]
        }
      ]
    },
    {
      "cell_type": "markdown",
      "source": [
        "##2維資料取值"
      ],
      "metadata": {
        "id": "f2WsIxEm798X"
      }
    },
    {
      "cell_type": "code",
      "source": [
        "my_2d_array=np.array([np.arange(0,5),np.arange(5,10)])\n",
        "print(my_2d_array)\n",
        "print(my_2d_array[1,:]) #取第\"1\"維的值\n",
        "print(my_2d_array[:,1]) #取第\"0\",\"1\"維中,第\"1\"的值\n",
        "print(my_2d_array[1,2])"
      ],
      "metadata": {
        "colab": {
          "base_uri": "https://localhost:8080/"
        },
        "id": "BFj0Tbsu8B6Z",
        "outputId": "8fedaff5-b376-406c-aa5d-91f0a85d83b1"
      },
      "execution_count": null,
      "outputs": [
        {
          "output_type": "stream",
          "name": "stdout",
          "text": [
            "[[0 1 2 3 4]\n",
            " [5 6 7 8 9]]\n",
            "[5 6 7 8 9]\n",
            "[1 6]\n",
            "7\n"
          ]
        }
      ]
    },
    {
      "cell_type": "code",
      "source": [
        "#更改維度reshape\n",
        "a=np.arange(10) #一維10個數字\n",
        "print(a)\n",
        "b=a.reshape(2,5) #更改為二維,每維5個數字\n",
        "print(b)"
      ],
      "metadata": {
        "colab": {
          "base_uri": "https://localhost:8080/"
        },
        "id": "XlaQq_Qe-6wA",
        "outputId": "64e072a0-7237-4006-c3d7-7be5aa42998e"
      },
      "execution_count": null,
      "outputs": [
        {
          "output_type": "stream",
          "name": "stdout",
          "text": [
            "[0 1 2 3 4 5 6 7 8 9]\n",
            "[[0 1 2 3 4]\n",
            " [5 6 7 8 9]]\n"
          ]
        }
      ]
    },
    {
      "cell_type": "markdown",
      "source": [
        "# Chap 6 檔案處理\n",
        "os套件：用來處理文件與目錄，與檔案相關操作"
      ],
      "metadata": {
        "id": "-RNxjik2gKXF"
      }
    },
    {
      "cell_type": "code",
      "source": [
        "import os\n",
        "print(os.getcwd()) #獲得目前工作目錄"
      ],
      "metadata": {
        "colab": {
          "base_uri": "https://localhost:8080/"
        },
        "id": "KiLHKnjjgfll",
        "outputId": "28891af9-abd2-4c0f-db70-56231f38c28d"
      },
      "execution_count": null,
      "outputs": [
        {
          "output_type": "stream",
          "name": "stdout",
          "text": [
            "/content\n"
          ]
        }
      ]
    },
    {
      "cell_type": "code",
      "source": [
        "print(os.listdir())  #顯示目前目錄下全部檔案及子目錄"
      ],
      "metadata": {
        "colab": {
          "base_uri": "https://localhost:8080/"
        },
        "id": "PLSv_eaPg9Et",
        "outputId": "2a98b03e-9c03-4e6b-b496-d88159f37d2a"
      },
      "execution_count": null,
      "outputs": [
        {
          "output_type": "stream",
          "name": "stdout",
          "text": [
            "['.config', 'sample_data']\n"
          ]
        }
      ]
    },
    {
      "cell_type": "code",
      "source": [
        "os.makedirs(\"test\") #在目前目錄下,新增名為\"test\"目錄\n",
        "os.listdir(\".\")"
      ],
      "metadata": {
        "colab": {
          "base_uri": "https://localhost:8080/"
        },
        "id": "9C4Hh7eqi_sV",
        "outputId": "a77d39c4-421f-4c7e-f7b4-65f9995eff18"
      },
      "execution_count": null,
      "outputs": [
        {
          "output_type": "execute_result",
          "data": {
            "text/plain": [
              "['.config', 'test', 'sample_data']"
            ]
          },
          "metadata": {},
          "execution_count": 3
        }
      ]
    },
    {
      "cell_type": "code",
      "source": [
        "os.rmdir(\"test\") #刪除\"test\"目錄\n",
        "os.listdir(\".\")"
      ],
      "metadata": {
        "colab": {
          "base_uri": "https://localhost:8080/"
        },
        "id": "mzX2KPoxjQSF",
        "outputId": "65c2877b-0253-4f30-c3fc-b78ed713cd72"
      },
      "execution_count": null,
      "outputs": [
        {
          "output_type": "execute_result",
          "data": {
            "text/plain": [
              "['.config', 'sample_data']"
            ]
          },
          "metadata": {},
          "execution_count": 4
        }
      ]
    },
    {
      "cell_type": "markdown",
      "source": [
        "# 檔案的開啟與寫入\n",
        "os套件有自己的開啟檔案函示open，但是MTA認證採用的是python內建的open\n",
        "w = 可寫(預設建立檔案) 若檔案存在則會清除舊檔案\n",
        "\n",
        "w+ = 可寫可讀(預設建立檔案) 若檔案存在則會清除舊檔案\n",
        "\n",
        "r = 可讀\n",
        "\n",
        "r+ = 可寫可讀 但寫入資料指向開頭\n",
        "\n",
        "a = 可寫不能讀 寫入資料指向尾端\n",
        "\n",
        "a+ = 可寫可讀 寫入資料指向尾端\n",
        "\n",
        "b = 轉為2進位文件\n",
        "\n",
        "ab+ = 2進位文件的讀寫 寫入資料指向尾端"
      ],
      "metadata": {
        "id": "1flAsTzbkYpV"
      }
    },
    {
      "cell_type": "code",
      "source": [
        "# a=open()   開啟python檔案\n",
        "# a=os.open()  開啟系統目錄檔案"
      ],
      "metadata": {
        "id": "nDNh0vSkmDCN"
      },
      "execution_count": null,
      "outputs": []
    },
    {
      "cell_type": "code",
      "source": [
        "#新增檔案\n",
        "a=open(\"a.txt\",\"w\") \n",
        "a.write(\"This is a test1\")   #\\n為換行符號\n",
        "a.write(\"This is a test2\\n\")\n",
        "a.write(\"This is a test3\\n\")\n",
        "a.close() #離開執行區塊前,記得呼叫close()把butter裡面的命令寫入"
      ],
      "metadata": {
        "id": "4PDoFBxGmDhF"
      },
      "execution_count": null,
      "outputs": []
    },
    {
      "cell_type": "code",
      "source": [
        "os.path.isfile(\"a.txt\")"
      ],
      "metadata": {
        "colab": {
          "base_uri": "https://localhost:8080/"
        },
        "id": "qY9S-GW0nNXt",
        "outputId": "a95da382-faa6-4a22-b892-4d099ff125f8"
      },
      "execution_count": null,
      "outputs": [
        {
          "output_type": "execute_result",
          "data": {
            "text/plain": [
              "True"
            ]
          },
          "metadata": {},
          "execution_count": 6
        }
      ]
    },
    {
      "cell_type": "code",
      "source": [
        "a=open(\"a.txt\",\"r\") #讀取檔案\n",
        "print(a.readline()) #readline()一次讀取一行\n",
        "print(a.readline())\n",
        "a.close()"
      ],
      "metadata": {
        "colab": {
          "base_uri": "https://localhost:8080/"
        },
        "id": "y0bYLjvanje8",
        "outputId": "8d8f888e-ec2d-4013-c96d-d440de95951c"
      },
      "execution_count": null,
      "outputs": [
        {
          "output_type": "stream",
          "name": "stdout",
          "text": [
            "This is a test1This is a test2\n",
            "\n",
            "This is a test3\n",
            "\n"
          ]
        }
      ]
    },
    {
      "cell_type": "code",
      "source": [
        "if os.path.isfile(\"a.txt\"):\n",
        "    a=open(\"a.txt\",\"r\")\n",
        "    for line in a:   #一行一行讀取a檔案\n",
        "      print(line.split(\" \")) #根據\" \"(空白)來切割每一行\n",
        "    \n",
        "    a.close()\n",
        "else:\n",
        "    print(\"檔案不存在\")"
      ],
      "metadata": {
        "colab": {
          "base_uri": "https://localhost:8080/"
        },
        "id": "XNXehzX3sZDM",
        "outputId": "6ca72d56-4c32-4dcf-b5ad-94e7b359cabb"
      },
      "execution_count": null,
      "outputs": [
        {
          "output_type": "stream",
          "name": "stdout",
          "text": [
            "['This', 'is', 'a', 'test1This', 'is', 'a', 'test2\\n']\n",
            "['This', 'is', 'a', 'test3\\n']\n"
          ]
        }
      ]
    },
    {
      "cell_type": "markdown",
      "source": [
        "# 附加檔案"
      ],
      "metadata": {
        "id": "pErV0b93vi79"
      }
    },
    {
      "cell_type": "code",
      "source": [
        "a=open(\"a.txt\",\"a\") #在檔案的尾巴加上資料\n",
        "a.write(\"This is a test4\\n\")\n",
        "a.close()"
      ],
      "metadata": {
        "id": "wxIibzb9vWL9"
      },
      "execution_count": null,
      "outputs": []
    },
    {
      "cell_type": "code",
      "source": [
        "a=open(\"a.txt\",\"r\")\n",
        "print(a.readlines()) #readlines()為讀取所有的行\n",
        "a.close()"
      ],
      "metadata": {
        "colab": {
          "base_uri": "https://localhost:8080/"
        },
        "id": "_t4wZlNMwKe9",
        "outputId": "802402f8-dd6c-4ee9-fa2c-b0ad96fe8f22"
      },
      "execution_count": null,
      "outputs": [
        {
          "output_type": "stream",
          "name": "stdout",
          "text": [
            "['This is a test5\\n', 'his is a test2\\n', 'This is a test3\\n', 'This is a test4\\n']\n"
          ]
        }
      ]
    },
    {
      "cell_type": "code",
      "source": [
        "#如果需要附加檔案在最前方,要用r+參數\n",
        "a=open(\"a.txt\",\"r+\") #在檔案最前方加上資料\n",
        "a.write(\"This is a test5\\n\")\n",
        "a.close()"
      ],
      "metadata": {
        "id": "fyB6Hiizwyct"
      },
      "execution_count": null,
      "outputs": []
    },
    {
      "cell_type": "code",
      "source": [
        "a=open(\"a.txt\",\"r\")\n",
        "print(a.readlines()) #readlines()為讀取所有的行\n",
        "a.close()"
      ],
      "metadata": {
        "colab": {
          "base_uri": "https://localhost:8080/"
        },
        "id": "6tN6xdS6xQIs",
        "outputId": "16e5e3d4-8979-498d-dfc2-440a14ae310b"
      },
      "execution_count": null,
      "outputs": [
        {
          "output_type": "stream",
          "name": "stdout",
          "text": [
            "['This is a test5\\n', 'his is a test2\\n', 'This is a test3\\n']\n"
          ]
        }
      ]
    },
    {
      "cell_type": "code",
      "source": [
        "#刪除檔案\n",
        "os.remove(\"a.txt\")"
      ],
      "metadata": {
        "id": "yrN_drJjyk0s"
      },
      "execution_count": null,
      "outputs": []
    },
    {
      "cell_type": "markdown",
      "source": [
        "#Chap7 錯誤處理"
      ],
      "metadata": {
        "id": "2t3T_ZnMAA5H"
      }
    },
    {
      "cell_type": "code",
      "source": [
        "a=10\n",
        "b=20\n",
        "try:\n",
        "    if a<b:\n",
        "        print(n)\n",
        "except:\n",
        "    print(\"錯誤產生\")"
      ],
      "metadata": {
        "colab": {
          "base_uri": "https://localhost:8080/"
        },
        "id": "G-589fX8AC_m",
        "outputId": "3e6b576e-54d7-4e5c-95c5-0b5527bd53c1"
      },
      "execution_count": null,
      "outputs": [
        {
          "output_type": "stream",
          "name": "stdout",
          "text": [
            "錯誤產生\n"
          ]
        }
      ]
    },
    {
      "cell_type": "markdown",
      "source": [
        "##指定錯誤類別處理"
      ],
      "metadata": {
        "id": "2VtFLYIbALU3"
      }
    },
    {
      "cell_type": "code",
      "source": [
        "a=10\n",
        "b=20\n",
        "try:\n",
        "    if a<b:\n",
        "        print(n)\n",
        "except NameError as e:\n",
        "    print(\"錯誤產生, 錯誤原因：\",e)\n",
        "except ZeroDivisionError:\n",
        "    print(\"除以0錯誤\")"
      ],
      "metadata": {
        "colab": {
          "base_uri": "https://localhost:8080/"
        },
        "id": "-KpyodQxANO4",
        "outputId": "4c5ced37-619f-445f-d8e0-7e93c6063af1"
      },
      "execution_count": null,
      "outputs": [
        {
          "output_type": "stream",
          "name": "stdout",
          "text": [
            "錯誤產生, 錯誤原因： name 'n' is not defined\n"
          ]
        }
      ]
    },
    {
      "cell_type": "markdown",
      "source": [
        "#else\n",
        "沒有錯誤產生會執行的部分"
      ],
      "metadata": {
        "id": "dr1a5tyzASw4"
      }
    },
    {
      "cell_type": "code",
      "source": [
        "a=10\n",
        "b=20\n",
        "try:\n",
        "    if a>b: #改變比較條件，讓錯誤不發生\n",
        "        print(n)\n",
        "except:\n",
        "    print(\"錯誤發生\")\n",
        "else:\n",
        "    print(\"沒有錯誤發生時會執行的部分\")"
      ],
      "metadata": {
        "colab": {
          "base_uri": "https://localhost:8080/"
        },
        "id": "ISd9of47AV6g",
        "outputId": "db649bad-7df2-41b5-dcb4-0470888e025d"
      },
      "execution_count": null,
      "outputs": [
        {
          "output_type": "stream",
          "name": "stdout",
          "text": [
            "沒有錯誤發生時會執行的部分\n"
          ]
        }
      ]
    },
    {
      "cell_type": "code",
      "source": [
        "a=10\n",
        "b=20\n",
        "try:\n",
        "    if a>b: #改變比較條件，讓錯誤不發生\n",
        "        print(n)\n",
        "except:\n",
        "    print(\"錯誤發生\")\n",
        "else:\n",
        "    print(\"沒有錯誤發生時會執行的部分\")\n",
        "finally:\n",
        "    print(\"不管有沒有錯誤一定會執行的部分\")"
      ],
      "metadata": {
        "colab": {
          "base_uri": "https://localhost:8080/"
        },
        "id": "KW2Srf2dAeM4",
        "outputId": "9484cdd7-c548-4c9b-e28e-8a25e50f1cd5"
      },
      "execution_count": null,
      "outputs": [
        {
          "output_type": "stream",
          "name": "stdout",
          "text": [
            "沒有錯誤發生時會執行的部分\n",
            "不管有沒有錯誤一定會執行的部分\n"
          ]
        }
      ]
    }
  ]
}